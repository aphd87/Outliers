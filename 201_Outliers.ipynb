{
 "cells": [
  {
   "cell_type": "code",
   "execution_count": 1,
   "id": "dfb0be15",
   "metadata": {},
   "outputs": [],
   "source": [
    "import pandas as pd\n"
   ]
  },
  {
   "cell_type": "code",
   "execution_count": 2,
   "id": "5c372422",
   "metadata": {},
   "outputs": [],
   "source": [
    "my_df = pd.DataFrame({\"input1\" : [15,41,44,47,50,53,56,59,99],\n",
    "                     \"input2\" : [29,41,44,47,50,53,56,59,66]})"
   ]
  },
  {
   "cell_type": "code",
   "execution_count": 3,
   "id": "6f253efb",
   "metadata": {},
   "outputs": [
    {
     "data": {
      "text/html": [
       "<div>\n",
       "<style scoped>\n",
       "    .dataframe tbody tr th:only-of-type {\n",
       "        vertical-align: middle;\n",
       "    }\n",
       "\n",
       "    .dataframe tbody tr th {\n",
       "        vertical-align: top;\n",
       "    }\n",
       "\n",
       "    .dataframe thead th {\n",
       "        text-align: right;\n",
       "    }\n",
       "</style>\n",
       "<table border=\"1\" class=\"dataframe\">\n",
       "  <thead>\n",
       "    <tr style=\"text-align: right;\">\n",
       "      <th></th>\n",
       "      <th>input1</th>\n",
       "      <th>input2</th>\n",
       "    </tr>\n",
       "  </thead>\n",
       "  <tbody>\n",
       "    <tr>\n",
       "      <th>0</th>\n",
       "      <td>15</td>\n",
       "      <td>29</td>\n",
       "    </tr>\n",
       "    <tr>\n",
       "      <th>1</th>\n",
       "      <td>41</td>\n",
       "      <td>41</td>\n",
       "    </tr>\n",
       "    <tr>\n",
       "      <th>2</th>\n",
       "      <td>44</td>\n",
       "      <td>44</td>\n",
       "    </tr>\n",
       "    <tr>\n",
       "      <th>3</th>\n",
       "      <td>47</td>\n",
       "      <td>47</td>\n",
       "    </tr>\n",
       "    <tr>\n",
       "      <th>4</th>\n",
       "      <td>50</td>\n",
       "      <td>50</td>\n",
       "    </tr>\n",
       "    <tr>\n",
       "      <th>5</th>\n",
       "      <td>53</td>\n",
       "      <td>53</td>\n",
       "    </tr>\n",
       "    <tr>\n",
       "      <th>6</th>\n",
       "      <td>56</td>\n",
       "      <td>56</td>\n",
       "    </tr>\n",
       "    <tr>\n",
       "      <th>7</th>\n",
       "      <td>59</td>\n",
       "      <td>59</td>\n",
       "    </tr>\n",
       "    <tr>\n",
       "      <th>8</th>\n",
       "      <td>99</td>\n",
       "      <td>66</td>\n",
       "    </tr>\n",
       "  </tbody>\n",
       "</table>\n",
       "</div>"
      ],
      "text/plain": [
       "   input1  input2\n",
       "0      15      29\n",
       "1      41      41\n",
       "2      44      44\n",
       "3      47      47\n",
       "4      50      50\n",
       "5      53      53\n",
       "6      56      56\n",
       "7      59      59\n",
       "8      99      66"
      ]
     },
     "execution_count": 3,
     "metadata": {},
     "output_type": "execute_result"
    }
   ],
   "source": [
    "my_df"
   ]
  },
  {
   "cell_type": "code",
   "execution_count": 4,
   "id": "01e641e8",
   "metadata": {},
   "outputs": [
    {
     "data": {
      "text/plain": [
       "<Axes: >"
      ]
     },
     "execution_count": 4,
     "metadata": {},
     "output_type": "execute_result"
    },
    {
     "data": {
      "image/png": "[encoded data removed]",
      "text/plain": [
       "<Figure size 640x480 with 1 Axes>"
      ]
     },
     "metadata": {},
     "output_type": "display_data"
    }
   ],
   "source": [
    "my_df.plot(kind = \"box\", vert=False)\n",
    "#vert=false - it is horizontal rather than vertical\n",
    "#input2 values are contained, but input1 has 2 values spread out"
   ]
  },
  {
   "cell_type": "code",
   "execution_count": 5,
   "id": "7160520c",
   "metadata": {},
   "outputs": [],
   "source": [
    "outlier_columns = [\"input1\", \"input2\"]"
   ]
  },
  {
   "cell_type": "code",
   "execution_count": 6,
   "id": "2f337582",
   "metadata": {},
   "outputs": [
    {
     "name": "stdout",
     "output_type": "stream",
     "text": [
      "2 outliers detected in column input1\n",
      "0 outliers detected in column input2\n"
     ]
    }
   ],
   "source": [
    "#Approach 1 - Boxplot approach\n",
    "#Create a for loop\n",
    "\n",
    "for column in outlier_columns:\n",
    "    lower_quartile = my_df[column].quantile(0.25) #25 percentile/lower quartile\n",
    "    upper_quartile = my_df[column].quantile(0.75) #25 percentile/lower quartile\n",
    "    iqr = upper_quartile - lower_quartile\n",
    "    iqr_extended = iqr*1.5\n",
    "    min_border = lower_quartile - iqr_extended\n",
    "    max_border = upper_quartile + iqr_extended\n",
    "    \n",
    "    outliers = my_df[(my_df[column] < min_border) | (my_df[column] > max_border)].index\n",
    "\n",
    "    print(f\"{len(outliers)} outliers detected in column {column}\")\n",
    "    \n",
    "    my_df.drop(outliers, inplace =True)"
   ]
  },
  {
   "cell_type": "code",
   "execution_count": 7,
   "id": "99e3e6e3",
   "metadata": {},
   "outputs": [
    {
     "data": {
      "text/html": [
       "<div>\n",
       "<style scoped>\n",
       "    .dataframe tbody tr th:only-of-type {\n",
       "        vertical-align: middle;\n",
       "    }\n",
       "\n",
       "    .dataframe tbody tr th {\n",
       "        vertical-align: top;\n",
       "    }\n",
       "\n",
       "    .dataframe thead th {\n",
       "        text-align: right;\n",
       "    }\n",
       "</style>\n",
       "<table border=\"1\" class=\"dataframe\">\n",
       "  <thead>\n",
       "    <tr style=\"text-align: right;\">\n",
       "      <th></th>\n",
       "      <th>input1</th>\n",
       "      <th>input2</th>\n",
       "    </tr>\n",
       "  </thead>\n",
       "  <tbody>\n",
       "    <tr>\n",
       "      <th>1</th>\n",
       "      <td>41</td>\n",
       "      <td>41</td>\n",
       "    </tr>\n",
       "    <tr>\n",
       "      <th>2</th>\n",
       "      <td>44</td>\n",
       "      <td>44</td>\n",
       "    </tr>\n",
       "    <tr>\n",
       "      <th>3</th>\n",
       "      <td>47</td>\n",
       "      <td>47</td>\n",
       "    </tr>\n",
       "    <tr>\n",
       "      <th>4</th>\n",
       "      <td>50</td>\n",
       "      <td>50</td>\n",
       "    </tr>\n",
       "    <tr>\n",
       "      <th>5</th>\n",
       "      <td>53</td>\n",
       "      <td>53</td>\n",
       "    </tr>\n",
       "    <tr>\n",
       "      <th>6</th>\n",
       "      <td>56</td>\n",
       "      <td>56</td>\n",
       "    </tr>\n",
       "    <tr>\n",
       "      <th>7</th>\n",
       "      <td>59</td>\n",
       "      <td>59</td>\n",
       "    </tr>\n",
       "  </tbody>\n",
       "</table>\n",
       "</div>"
      ],
      "text/plain": [
       "   input1  input2\n",
       "1      41      41\n",
       "2      44      44\n",
       "3      47      47\n",
       "4      50      50\n",
       "5      53      53\n",
       "6      56      56\n",
       "7      59      59"
      ]
     },
     "execution_count": 7,
     "metadata": {},
     "output_type": "execute_result"
    }
   ],
   "source": [
    "my_df\n",
    "#The two rows with two outlier data points have been removed (row 0 and row 8)"
   ]
  },
  {
   "cell_type": "code",
   "execution_count": 9,
   "id": "7818f1c2",
   "metadata": {},
   "outputs": [
    {
     "name": "stdout",
     "output_type": "stream",
     "text": [
      "0 outliers detected in column input1\n",
      "0 outliers detected in column input2\n"
     ]
    }
   ],
   "source": [
    "#Approach 2 - STDV\n",
    "my_df = pd.DataFrame({\"input1\" : [15,41,44,47,50,53,56,59,99],\n",
    "                     \"input2\" : [29,41,44,47,50,53,56,59,66]})\n",
    "for column in outlier_columns:\n",
    "    mean = my_df[column].mean()\n",
    "    std_dev = my_df[column].std()\n",
    "\n",
    "    min_border = mean - std_dev*3\n",
    "    max_border = mean + std_dev*3\n",
    "\n",
    "    outliers = my_df[(my_df[column] < min_border) | (my_df[column] > max_border)].index\n",
    "\n",
    "    print(f\"{len(outliers)} outliers detected in column {column}\")\n",
    "    \n",
    "    my_df.drop(outliers, inplace =True)"
   ]
  },
  {
   "cell_type": "code",
   "execution_count": null,
   "id": "53ba7751",
   "metadata": {},
   "outputs": [],
   "source": [
    "#No outliers here, and no rows have been dropped - We're dealing with such a small # of data points\n",
    "#STDV is probably so large, that max/min extend out to 15 and 99 in input 1\n",
    "#More data points around the mean would likely shrink STDV - easily identifying outliers\n",
    "\n",
    "#Removing outliers should only be done if these data points will have material impact on the model\n",
    "#"
   ]
  }
 ],
 "metadata": {
  "kernelspec": {
   "display_name": "Python 3 (ipykernel)",
   "language": "python",
   "name": "python3"
  },
  "language_info": {
   "codemirror_mode": {
    "name": "ipython",
    "version": 3
   },
   "file_extension": ".py",
   "mimetype": "text/x-python",
   "name": "python",
   "nbconvert_exporter": "python",
   "pygments_lexer": "ipython3",
   "version": "3.11.5"
  }
 },
 "nbformat": 4,
 "nbformat_minor": 5
}
